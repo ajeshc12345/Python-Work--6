{
 "cells": [
  {
   "cell_type": "markdown",
   "id": "3f7c4be3",
   "metadata": {},
   "source": [
    "# Sets\n",
    "\n",
    "\n",
    "A set is a collection which is unordered \n",
    "\n",
    "To declare a set in python we use the curly brackets."
   ]
  },
  {
   "cell_type": "code",
   "execution_count": 45,
   "id": "0a70dee8",
   "metadata": {},
   "outputs": [
    {
     "name": "stdout",
     "output_type": "stream",
     "text": [
      "50\n",
      "20\n",
      "40\n",
      "10\n",
      "30\n"
     ]
    }
   ],
   "source": [
    "set={10,20,10,30,20,40,30,50,30}\n",
    "#will get all the values.\n",
    "for x in set:\n",
    " print(x)\n"
   ]
  },
  {
   "cell_type": "code",
   "execution_count": 33,
   "id": "8f8528de",
   "metadata": {},
   "outputs": [
    {
     "name": "stdout",
     "output_type": "stream",
     "text": [
      "50\n",
      "20\n",
      "40\n",
      "10\n",
      "30\n"
     ]
    }
   ],
   "source": [
    "for x in set:\n",
    " print(x)"
   ]
  },
  {
   "cell_type": "code",
   "execution_count": 34,
   "id": "fdf259ff",
   "metadata": {},
   "outputs": [
    {
     "data": {
      "text/plain": [
       "True"
      ]
     },
     "execution_count": 34,
     "metadata": {},
     "output_type": "execute_result"
    }
   ],
   "source": [
    "20 in set\n",
    "#will return true if the value is in the set.\n"
   ]
  },
  {
   "cell_type": "code",
   "execution_count": 35,
   "id": "97dd25ee",
   "metadata": {},
   "outputs": [
    {
     "data": {
      "text/plain": [
       "False"
      ]
     },
     "execution_count": 35,
     "metadata": {},
     "output_type": "execute_result"
    }
   ],
   "source": [
    "100 in set"
   ]
  },
  {
   "cell_type": "code",
   "execution_count": 36,
   "id": "b88f3f7b",
   "metadata": {},
   "outputs": [
    {
     "data": {
      "text/plain": [
       "{10, 20, 30, 40, 50, 'pekky'}"
      ]
     },
     "execution_count": 36,
     "metadata": {},
     "output_type": "execute_result"
    }
   ],
   "source": [
    "#add a value in a set\n",
    "set.add('pekky')\n",
    "set "
   ]
  },
  {
   "cell_type": "code",
   "execution_count": 37,
   "id": "8252c83b",
   "metadata": {},
   "outputs": [
    {
     "data": {
      "text/plain": [
       "{10, 100, 20, 30, 40, 50, 'pekky'}"
      ]
     },
     "execution_count": 37,
     "metadata": {},
     "output_type": "execute_result"
    }
   ],
   "source": [
    "set.add(100)\n",
    "set"
   ]
  },
  {
   "cell_type": "code",
   "execution_count": 38,
   "id": "6de3be51",
   "metadata": {},
   "outputs": [
    {
     "data": {
      "text/plain": [
       "True"
      ]
     },
     "execution_count": 38,
     "metadata": {},
     "output_type": "execute_result"
    }
   ],
   "source": [
    "100 in set"
   ]
  },
  {
   "cell_type": "code",
   "execution_count": 39,
   "id": "29042f61",
   "metadata": {},
   "outputs": [
    {
     "data": {
      "text/plain": [
       "{10, 20, 30, 40, 50, 100}"
      ]
     },
     "execution_count": 39,
     "metadata": {},
     "output_type": "execute_result"
    }
   ],
   "source": [
    "#to remove an item from a set\n",
    "set.remove('pekky')\n",
    "set"
   ]
  },
  {
   "cell_type": "code",
   "execution_count": 40,
   "id": "79c08fa0",
   "metadata": {},
   "outputs": [
    {
     "data": {
      "text/plain": [
       "{10, 20, 30, 40, 50}"
      ]
     },
     "execution_count": 40,
     "metadata": {},
     "output_type": "execute_result"
    }
   ],
   "source": [
    "set.remove(100)\n",
    "set"
   ]
  },
  {
   "cell_type": "code",
   "execution_count": 41,
   "id": "b367f2ec",
   "metadata": {},
   "outputs": [
    {
     "data": {
      "text/plain": [
       "False"
      ]
     },
     "execution_count": 41,
     "metadata": {},
     "output_type": "execute_result"
    }
   ],
   "source": [
    "set1={5,10,20}\n",
    "set2={10,20,30}\n",
    "set1.issubset(set2)"
   ]
  },
  {
   "cell_type": "code",
   "execution_count": 42,
   "id": "507aa5be",
   "metadata": {},
   "outputs": [
    {
     "data": {
      "text/plain": [
       "True"
      ]
     },
     "execution_count": 42,
     "metadata": {},
     "output_type": "execute_result"
    }
   ],
   "source": [
    "set1={10,20}\n",
    "set2={10,20,30}\n",
    "set1.issubset(set2)"
   ]
  },
  {
   "cell_type": "code",
   "execution_count": 43,
   "id": "e0ff14f3",
   "metadata": {},
   "outputs": [
    {
     "data": {
      "text/plain": [
       "{10, 20, 30}"
      ]
     },
     "execution_count": 43,
     "metadata": {},
     "output_type": "execute_result"
    }
   ],
   "source": [
    "#this will return a set with the union of the two sets.\n",
    "set1.union(set2)\n"
   ]
  },
  {
   "cell_type": "code",
   "execution_count": 44,
   "id": "c7a5b7d1",
   "metadata": {},
   "outputs": [
    {
     "data": {
      "text/plain": [
       "{1, 3, 4, 10, 20}"
      ]
     },
     "execution_count": 44,
     "metadata": {},
     "output_type": "execute_result"
    }
   ],
   "source": [
    "st1={4,2,3,}\n",
    "st2={4,3,1}\n",
    "set1.union(st2)\n"
   ]
  },
  {
   "cell_type": "code",
   "execution_count": null,
   "id": "04e49088",
   "metadata": {},
   "outputs": [],
   "source": []
  }
 ],
 "metadata": {
  "kernelspec": {
   "display_name": "Python 3 (ipykernel)",
   "language": "python",
   "name": "python3"
  },
  "language_info": {
   "codemirror_mode": {
    "name": "ipython",
    "version": 3
   },
   "file_extension": ".py",
   "mimetype": "text/x-python",
   "name": "python",
   "nbconvert_exporter": "python",
   "pygments_lexer": "ipython3",
   "version": "3.10.9"
  }
 },
 "nbformat": 4,
 "nbformat_minor": 5
}
