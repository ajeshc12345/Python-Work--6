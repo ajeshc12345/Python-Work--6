{
 "cells": [
  {
   "cell_type": "code",
   "execution_count": 64,
   "id": "f319764e",
   "metadata": {},
   "outputs": [
    {
     "data": {
      "text/plain": [
       "{'Name': 'Christy', 'email': 'Kichu2gmail.com', 'Phone number': '7000070000'}"
      ]
     },
     "execution_count": 64,
     "metadata": {},
     "output_type": "execute_result"
    }
   ],
   "source": [
    "# we created a dictionary now, with key: name, email, phone number\n",
    "#and values christy, kichu@gmail.com,7000070000\n",
    "dict1={\"Name\":\"Christy\",\"email\":\"Kichu2gmail.com\",\"Phone number\": \"7000070000\"}\n",
    "dict1"
   ]
  },
  {
   "cell_type": "code",
   "execution_count": 65,
   "id": "c7415889",
   "metadata": {},
   "outputs": [
    {
     "data": {
      "text/plain": [
       "'7000070000'"
      ]
     },
     "execution_count": 65,
     "metadata": {},
     "output_type": "execute_result"
    }
   ],
   "source": [
    "# now to seperately call each key from the dicitionary we can use the code\n",
    "a=dict1['Phone number']\n",
    "a"
   ]
  },
  {
   "cell_type": "code",
   "execution_count": 66,
   "id": "b5541850",
   "metadata": {},
   "outputs": [
    {
     "name": "stdout",
     "output_type": "stream",
     "text": [
      "{'Name': 'Catherine', 'email': 'Kichu2gmail.com', 'Phone number': '7000070000'}\n"
     ]
    }
   ],
   "source": [
    "# change value in the dictionary\n",
    "dict1[\"Name\"]=\"Catherine\"\n",
    "print(dict1)"
   ]
  },
  {
   "cell_type": "code",
   "execution_count": 67,
   "id": "aedff325",
   "metadata": {},
   "outputs": [
    {
     "name": "stdout",
     "output_type": "stream",
     "text": [
      "{'Name': 'Catherine', 'email': 'Katieee2gmail.com', 'Phone number': '7000070000'}\n"
     ]
    }
   ],
   "source": [
    "dict1[\"email\"]=\"Katieee2gmail.com\"\n",
    "print(dict1)\n"
   ]
  },
  {
   "cell_type": "code",
   "execution_count": 68,
   "id": "efc32b96",
   "metadata": {},
   "outputs": [
    {
     "name": "stdout",
     "output_type": "stream",
     "text": [
      "Name\n",
      "email\n",
      "Phone number\n"
     ]
    }
   ],
   "source": [
    "# To get key words headings\n",
    "for x in dict1:\n",
    " print(x)"
   ]
  },
  {
   "cell_type": "code",
   "execution_count": 69,
   "id": "2a5b3e6a",
   "metadata": {},
   "outputs": [
    {
     "name": "stdout",
     "output_type": "stream",
     "text": [
      "Catherine\n",
      "Katieee2gmail.com\n",
      "7000070000\n"
     ]
    }
   ],
   "source": [
    "# To get value \n",
    "for x in dict1:\n",
    "    print(dict1[x])\n",
    "    \n",
    "    "
   ]
  },
  {
   "cell_type": "code",
   "execution_count": 70,
   "id": "465b936b",
   "metadata": {},
   "outputs": [
    {
     "name": "stdout",
     "output_type": "stream",
     "text": [
      "Name Catherine\n",
      "email Katieee2gmail.com\n",
      "Phone number 7000070000\n"
     ]
    }
   ],
   "source": [
    "#to get both key and values\n",
    "for x,y in dict1.items():\n",
    "    print(x,y)"
   ]
  },
  {
   "cell_type": "code",
   "execution_count": 71,
   "id": "8ddd9244",
   "metadata": {},
   "outputs": [
    {
     "name": "stdout",
     "output_type": "stream",
     "text": [
      "3\n"
     ]
    }
   ],
   "source": [
    "# to get the length of dictionary\n",
    "print(len(dict1))\n",
    "#"
   ]
  },
  {
   "cell_type": "code",
   "execution_count": 72,
   "id": "c695f783",
   "metadata": {},
   "outputs": [
    {
     "name": "stdout",
     "output_type": "stream",
     "text": [
      "{'Name': 'Catherine', 'email': 'Katieee2gmail.com', 'Phone number': '7000070000', 'Age': 20}\n"
     ]
    }
   ],
   "source": [
    "# to add some more key and values into dictionary\n",
    "dict1[\"Age\"]=20\n",
    "print(dict1)"
   ]
  },
  {
   "cell_type": "code",
   "execution_count": 73,
   "id": "b9ad0c83",
   "metadata": {},
   "outputs": [
    {
     "name": "stdout",
     "output_type": "stream",
     "text": [
      "4\n"
     ]
    }
   ],
   "source": [
    "print(len(dict1))"
   ]
  },
  {
   "cell_type": "code",
   "execution_count": 74,
   "id": "9927f98c",
   "metadata": {},
   "outputs": [
    {
     "name": "stdout",
     "output_type": "stream",
     "text": [
      "4\n"
     ]
    }
   ],
   "source": [
    "print(len(dict1))"
   ]
  },
  {
   "cell_type": "code",
   "execution_count": 75,
   "id": "5d81f616",
   "metadata": {},
   "outputs": [
    {
     "name": "stdout",
     "output_type": "stream",
     "text": [
      "{'Name': 'Catherine', 'email': 'Katieee2gmail.com', 'Phone number': '7000070000', 'Age': 20, 'Place': 'Angamal'}\n"
     ]
    }
   ],
   "source": [
    "dict1[\"Place\"]=\"Angamal\"\n",
    "print(dict1)\n"
   ]
  },
  {
   "cell_type": "code",
   "execution_count": 76,
   "id": "536dbf34",
   "metadata": {},
   "outputs": [
    {
     "data": {
      "text/plain": [
       "{'Name': 'Catherine',\n",
       " 'Phone number': '7000070000',\n",
       " 'Age': 20,\n",
       " 'Place': 'Angamal'}"
      ]
     },
     "execution_count": 76,
     "metadata": {},
     "output_type": "execute_result"
    }
   ],
   "source": [
    "#to remove value\n",
    "dict1.pop(\"email\")\n",
    "dict1"
   ]
  },
  {
   "cell_type": "code",
   "execution_count": 77,
   "id": "54e03a34",
   "metadata": {},
   "outputs": [
    {
     "data": {
      "text/plain": [
       "{'Name': 'Catherine', 'Phone number': '7000070000', 'Age': 20}"
      ]
     },
     "execution_count": 77,
     "metadata": {},
     "output_type": "execute_result"
    }
   ],
   "source": [
    "# to delt from dictionary\n",
    "del dict1[\"Place\"]\n",
    "dict1\n"
   ]
  },
  {
   "cell_type": "code",
   "execution_count": 78,
   "id": "917615ba",
   "metadata": {},
   "outputs": [
    {
     "data": {
      "text/plain": [
       "{}"
      ]
     },
     "execution_count": 78,
     "metadata": {},
     "output_type": "execute_result"
    }
   ],
   "source": [
    "#to clear all the values from dictionary\n",
    "dict1.clear()\n",
    "dict1"
   ]
  },
  {
   "cell_type": "code",
   "execution_count": null,
   "id": "ef543f5d",
   "metadata": {},
   "outputs": [],
   "source": []
  },
  {
   "cell_type": "code",
   "execution_count": null,
   "id": "e56d7b35",
   "metadata": {},
   "outputs": [],
   "source": []
  }
 ],
 "metadata": {
  "kernelspec": {
   "display_name": "Python 3 (ipykernel)",
   "language": "python",
   "name": "python3"
  },
  "language_info": {
   "codemirror_mode": {
    "name": "ipython",
    "version": 3
   },
   "file_extension": ".py",
   "mimetype": "text/x-python",
   "name": "python",
   "nbconvert_exporter": "python",
   "pygments_lexer": "ipython3",
   "version": "3.10.9"
  }
 },
 "nbformat": 4,
 "nbformat_minor": 5
}
